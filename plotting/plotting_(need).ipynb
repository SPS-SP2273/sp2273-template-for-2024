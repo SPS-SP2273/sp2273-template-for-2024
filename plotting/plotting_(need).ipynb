{
 "cells": [
  {
   "attachments": {},
   "cell_type": "markdown",
   "id": "123456",
   "metadata": {},
   "source": [
    "<div style=\"text-align:left;font-size:2em\"><span style=\"font-weight:bolder;font-size:1.25em\">SP2273 | Learning Portfolio</span><br><br><span style=\"font-weight:bold;color:darkred\">Plotting (Need)</span></div>"
   ]
  },
  {
   "attachments": {},
   "cell_type": "markdown",
   "id": "23662b18",
   "metadata": {},
   "source": [
    "# A simple plot"
   ]
  },
  {
   "attachments": {},
   "cell_type": "markdown",
   "id": "86b27517",
   "metadata": {},
   "source": [
    "## Let’s look at some code."
   ]
  },
  {
   "cell_type": "code",
   "execution_count": 1,
   "id": "68c134ca",
   "metadata": {},
   "outputs": [],
   "source": [
    "\n",
    "# Your code here\n"
   ]
  },
  {
   "attachments": {},
   "cell_type": "markdown",
   "id": "a1d35449",
   "metadata": {},
   "source": [
    "### Things to note"
   ]
  },
  {
   "cell_type": "markdown",
   "id": "20bcbaa0-b970-427b-bc4a-1dac3a5c0d8b",
   "metadata": {},
   "source": [
    "**1**"
   ]
  },
  {
   "cell_type": "code",
   "execution_count": null,
   "id": "e4bc7441-883b-405a-a023-5500700de877",
   "metadata": {},
   "outputs": [],
   "source": []
  },
  {
   "cell_type": "markdown",
   "id": "0328e3f7-7a89-4c28-a53e-e3c6a0b8f490",
   "metadata": {},
   "source": [
    "**2**"
   ]
  },
  {
   "cell_type": "code",
   "execution_count": null,
   "id": "9b6df4fc-807b-45e1-9878-f728a1170e51",
   "metadata": {},
   "outputs": [],
   "source": []
  },
  {
   "cell_type": "markdown",
   "id": "5afd2fcc-44ce-4915-a49f-759532d78442",
   "metadata": {},
   "source": [
    "**3**"
   ]
  },
  {
   "cell_type": "code",
   "execution_count": null,
   "id": "9d1d9872-01f2-4cc3-b063-120d48af7216",
   "metadata": {},
   "outputs": [],
   "source": []
  },
  {
   "cell_type": "markdown",
   "id": "7ea6cbf6-48a4-472a-bddd-27f624e54dda",
   "metadata": {},
   "source": [
    "**4**"
   ]
  },
  {
   "cell_type": "code",
   "execution_count": null,
   "id": "0c93a2f2-a09d-46ec-86e5-0250f05b412d",
   "metadata": {},
   "outputs": [],
   "source": []
  },
  {
   "attachments": {},
   "cell_type": "markdown",
   "id": "0ee2b2b2",
   "metadata": {},
   "source": [
    "## Adding another plot"
   ]
  },
  {
   "cell_type": "code",
   "execution_count": null,
   "id": "833aa34b-4c11-4056-a2b2-7ab3efc5ffd4",
   "metadata": {},
   "outputs": [],
   "source": []
  },
  {
   "cell_type": "code",
   "execution_count": null,
   "id": "4efad42e-fdf0-440f-9aae-91dab4442c9b",
   "metadata": {},
   "outputs": [],
   "source": []
  },
  {
   "attachments": {},
   "cell_type": "markdown",
   "id": "59d3bfc2",
   "metadata": {},
   "source": [
    "## Yet another plot but with error bars"
   ]
  },
  {
   "cell_type": "code",
   "execution_count": null,
   "id": "0acc8d01-f4e0-4271-86cb-842d4a56ffca",
   "metadata": {},
   "outputs": [],
   "source": []
  },
  {
   "cell_type": "code",
   "execution_count": null,
   "id": "0b2c43a6-5b0f-4430-95c7-38e24a23133d",
   "metadata": {},
   "outputs": [],
   "source": []
  },
  {
   "attachments": {},
   "cell_type": "markdown",
   "id": "df235a78",
   "metadata": {},
   "source": [
    "# Better with NumPy"
   ]
  },
  {
   "cell_type": "code",
   "execution_count": null,
   "id": "7dbcd1d5-94f3-47a7-bc1e-58cbe3e9b0e5",
   "metadata": {},
   "outputs": [],
   "source": []
  },
  {
   "attachments": {},
   "cell_type": "markdown",
   "id": "f1880c99",
   "metadata": {},
   "source": [
    "## Adding mathematical functions"
   ]
  },
  {
   "cell_type": "code",
   "execution_count": null,
   "id": "f00a94a0-1dec-4167-8f98-83d10908f779",
   "metadata": {},
   "outputs": [],
   "source": []
  },
  {
   "attachments": {},
   "cell_type": "markdown",
   "id": "5dcde18c",
   "metadata": {},
   "source": [
    "## We need another axis!"
   ]
  },
  {
   "cell_type": "code",
   "execution_count": null,
   "id": "2491a3c3-529f-4dae-98b6-945211fc8645",
   "metadata": {},
   "outputs": [],
   "source": []
  },
  {
   "attachments": {},
   "cell_type": "markdown",
   "id": "822c4713",
   "metadata": {},
   "source": [
    "### Things to note"
   ]
  },
  {
   "cell_type": "markdown",
   "id": "6434f423-a6e8-47c1-91b0-09f38bdbe5e9",
   "metadata": {},
   "source": [
    "**Lengend**"
   ]
  },
  {
   "cell_type": "code",
   "execution_count": null,
   "id": "41280d82",
   "metadata": {},
   "outputs": [],
   "source": []
  },
  {
   "cell_type": "markdown",
   "id": "22a48df8-3321-46ac-9f48-686615b0e0b0",
   "metadata": {},
   "source": [
    "**No of Points**"
   ]
  },
  {
   "cell_type": "code",
   "execution_count": null,
   "id": "aa548a1e-7099-4aba-8796-86ef43916df0",
   "metadata": {},
   "outputs": [],
   "source": []
  },
  {
   "attachments": {},
   "cell_type": "markdown",
   "id": "32f6eea1",
   "metadata": {},
   "source": [
    "# Saving to disc"
   ]
  },
  {
   "cell_type": "code",
   "execution_count": null,
   "id": "663706e9-e0e4-4dfc-a5b5-bed7c64a675a",
   "metadata": {},
   "outputs": [],
   "source": []
  },
  {
   "attachments": {},
   "cell_type": "markdown",
   "id": "44c83172",
   "metadata": {},
   "source": [
    "# A real example: Global Warming"
   ]
  },
  {
   "attachments": {},
   "cell_type": "markdown",
   "id": "157de36b",
   "metadata": {},
   "source": [
    "## Plotting data from files"
   ]
  },
  {
   "cell_type": "code",
   "execution_count": null,
   "id": "8f2ce045-1ea8-40d0-959f-b39a2f02e713",
   "metadata": {},
   "outputs": [],
   "source": []
  },
  {
   "cell_type": "code",
   "execution_count": null,
   "id": "be6a830b-6724-4d42-8225-a780b549be5f",
   "metadata": {},
   "outputs": [],
   "source": []
  },
  {
   "attachments": {},
   "cell_type": "markdown",
   "id": "9ffc850b",
   "metadata": {},
   "source": [
    "## Styles"
   ]
  },
  {
   "cell_type": "code",
   "execution_count": null,
   "id": "53a420f0-22c5-4ff6-8ee8-22e73b7e98b3",
   "metadata": {},
   "outputs": [],
   "source": []
  },
  {
   "attachments": {},
   "cell_type": "markdown",
   "id": "02004732",
   "metadata": {},
   "source": [
    "### xkcd!"
   ]
  },
  {
   "cell_type": "code",
   "execution_count": 2,
   "id": "d0fc9b47",
   "metadata": {},
   "outputs": [],
   "source": [
    "\n",
    "# Your code here\n"
   ]
  },
  {
   "attachments": {},
   "cell_type": "markdown",
   "id": "b78326a8",
   "metadata": {},
   "source": [
    "### Resetting styles"
   ]
  },
  {
   "cell_type": "code",
   "execution_count": 3,
   "id": "b7a79282",
   "metadata": {},
   "outputs": [],
   "source": [
    "\n",
    "# Your code here\n"
   ]
  }
 ],
 "metadata": {
  "kernelspec": {
   "display_name": "Python 3 (ipykernel)",
   "language": "python",
   "name": "python3"
  },
  "language_info": {
   "codemirror_mode": {
    "name": "ipython",
    "version": 3
   },
   "file_extension": ".py",
   "mimetype": "text/x-python",
   "name": "python",
   "nbconvert_exporter": "python",
   "pygments_lexer": "ipython3",
   "version": "3.11.5"
  },
  "toc": {
   "base_numbering": 1,
   "nav_menu": {},
   "number_sections": true,
   "sideBar": true,
   "skip_h1_title": false,
   "title_cell": "Table of Contents",
   "title_sidebar": "Contents",
   "toc_cell": false,
   "toc_position": {},
   "toc_section_display": true,
   "toc_window_display": false
  },
  "vscode": {
   "interpreter": {
    "hash": "31f2aee4e71d21fbe5cf8b01ff0e069b9275f58929596ceb00d14d90e3e16cd6"
   }
  }
 },
 "nbformat": 4,
 "nbformat_minor": 5
}
