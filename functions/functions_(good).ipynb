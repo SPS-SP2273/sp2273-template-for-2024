{
 "cells": [
  {
   "attachments": {},
   "cell_type": "markdown",
   "id": "123456",
   "metadata": {},
   "source": [
    "<div style=\"text-align:left;font-size:2em\"><span style=\"font-weight:bolder;font-size:1.25em\">SP2273 | Learning Portfolio</span><br><br><span style=\"font-weight:bold;color:darkred\">Functions (Good)</span></div>"
   ]
  },
  {
   "attachments": {},
   "cell_type": "markdown",
   "id": "12913e52",
   "metadata": {},
   "source": [
    "# Checks, balances, and contingencies"
   ]
  },
  {
   "attachments": {},
   "cell_type": "markdown",
   "id": "551fe03d",
   "metadata": {},
   "source": [
    "## assert"
   ]
  },
  {
   "cell_type": "markdown",
   "id": "af703f13-4703-4456-b9c3-b71fea5e2ebb",
   "metadata": {},
   "source": [
    "### Basic Syntax"
   ]
  },
  {
   "cell_type": "code",
   "execution_count": null,
   "id": "838f086d-d10d-490d-93da-f0c43a5a0432",
   "metadata": {},
   "outputs": [],
   "source": []
  },
  {
   "cell_type": "markdown",
   "id": "629d8bb7-4036-4a2b-aa90-bda2f4904a46",
   "metadata": {},
   "source": [
    "### Will and Will not work"
   ]
  },
  {
   "cell_type": "code",
   "execution_count": null,
   "id": "1777699d-21e9-4add-bf01-c6298ffdf852",
   "metadata": {},
   "outputs": [],
   "source": []
  },
  {
   "cell_type": "code",
   "execution_count": null,
   "id": "f23841e1-c664-4515-8469-5702ea6ee478",
   "metadata": {},
   "outputs": [],
   "source": []
  },
  {
   "attachments": {},
   "cell_type": "markdown",
   "id": "59505109",
   "metadata": {},
   "source": [
    "## try-except"
   ]
  },
  {
   "cell_type": "markdown",
   "id": "41b71fc7-8d07-43f1-9143-9bd08ced0b9f",
   "metadata": {},
   "source": [
    "### Example of things that can go wrong"
   ]
  },
  {
   "cell_type": "code",
   "execution_count": null,
   "id": "d82265bd-a199-4cc8-88a9-9b5ad6e2525a",
   "metadata": {},
   "outputs": [],
   "source": []
  },
  {
   "cell_type": "markdown",
   "id": "03d363d7-921e-43a5-9047-719a7b8b238d",
   "metadata": {},
   "source": [
    "### Protecting with `try-except`"
   ]
  },
  {
   "cell_type": "code",
   "execution_count": null,
   "id": "3e67dae6-e373-4fcf-9f44-48ae7ebe32aa",
   "metadata": {},
   "outputs": [],
   "source": []
  },
  {
   "attachments": {},
   "cell_type": "markdown",
   "id": "aecccab0",
   "metadata": {},
   "source": [
    "## A simple suggestion"
   ]
  },
  {
   "cell_type": "code",
   "execution_count": null,
   "id": "7fc306f0-af25-4d99-9744-d43d61923bb4",
   "metadata": {},
   "outputs": [],
   "source": []
  },
  {
   "attachments": {},
   "cell_type": "markdown",
   "id": "df84fdb3",
   "metadata": {},
   "source": [
    "# Some loose ends"
   ]
  },
  {
   "attachments": {},
   "cell_type": "markdown",
   "id": "a200c4e0",
   "metadata": {},
   "source": [
    "## Positional, keyword and default arguments"
   ]
  },
  {
   "cell_type": "markdown",
   "id": "6fc4966f-a5c0-4639-bc6c-956cc95991cf",
   "metadata": {},
   "source": [
    "### Positional"
   ]
  },
  {
   "cell_type": "code",
   "execution_count": null,
   "id": "217fd0ac-ca86-4648-b098-d670082f8a53",
   "metadata": {},
   "outputs": [],
   "source": []
  },
  {
   "cell_type": "markdown",
   "id": "ce5e0ba0-e49e-43ed-8c64-395e16fd17cd",
   "metadata": {},
   "source": [
    "### Keyword"
   ]
  },
  {
   "cell_type": "code",
   "execution_count": null,
   "id": "2810d9e0-ad19-416d-8144-a239518a88fe",
   "metadata": {},
   "outputs": [],
   "source": []
  },
  {
   "cell_type": "markdown",
   "id": "cfde6046-1e1a-46c5-8579-311e127da2b7",
   "metadata": {},
   "source": [
    "### Default"
   ]
  },
  {
   "cell_type": "code",
   "execution_count": null,
   "id": "e607b43b-2755-4f01-b388-4dab7b0ccdbe",
   "metadata": {},
   "outputs": [],
   "source": []
  },
  {
   "cell_type": "markdown",
   "id": "e6009aab-58b1-4e6f-a6c4-ccc39f6d7132",
   "metadata": {},
   "source": [
    "### A bunch of examples of how to use"
   ]
  },
  {
   "cell_type": "code",
   "execution_count": null,
   "id": "6474438f-4680-4931-9fd7-8c48e33ab27c",
   "metadata": {},
   "outputs": [],
   "source": []
  },
  {
   "cell_type": "markdown",
   "id": "aff19438-0e5e-4677-b7ee-969aafdc6e89",
   "metadata": {},
   "source": [
    "### This won't work"
   ]
  },
  {
   "cell_type": "code",
   "execution_count": null,
   "id": "7ec61a69-df7e-4fee-a3b0-c547535530a3",
   "metadata": {},
   "outputs": [],
   "source": []
  },
  {
   "attachments": {},
   "cell_type": "markdown",
   "id": "5ecae2ae",
   "metadata": {},
   "source": [
    "## Docstrings"
   ]
  },
  {
   "cell_type": "markdown",
   "id": "7c43108b-aada-4c5f-819c-48a5e69f3f06",
   "metadata": {},
   "source": [
    "### Writing a docstring"
   ]
  },
  {
   "cell_type": "markdown",
   "id": "6d636113-964f-474a-9006-ec18dfb5f37e",
   "metadata": {},
   "source": []
  },
  {
   "cell_type": "markdown",
   "id": "5a68fe21-bd94-45cb-8548-bbb1696087d2",
   "metadata": {},
   "source": [
    "###  Extracting a doc string"
   ]
  },
  {
   "cell_type": "code",
   "execution_count": null,
   "id": "b913c465-c1a9-4717-8a60-28741fa16a32",
   "metadata": {},
   "outputs": [],
   "source": []
  },
  {
   "attachments": {},
   "cell_type": "markdown",
   "id": "66cf4950",
   "metadata": {},
   "source": [
    "## Function are first-class citizens"
   ]
  },
  {
   "cell_type": "code",
   "execution_count": null,
   "id": "122f4e72-3742-476c-a721-c1050956e377",
   "metadata": {},
   "outputs": [],
   "source": []
  },
  {
   "cell_type": "code",
   "execution_count": null,
   "id": "cd2c7436-0038-4644-856b-9e5af0d8d90b",
   "metadata": {},
   "outputs": [],
   "source": []
  },
  {
   "attachments": {},
   "cell_type": "markdown",
   "id": "a6e39c33",
   "metadata": {},
   "source": [
    "## More about unpacking"
   ]
  },
  {
   "cell_type": "markdown",
   "id": "a79ca1f1-b60e-4c94-a2aa-5c4300a0ace0",
   "metadata": {},
   "source": [
    "**Example 1**"
   ]
  },
  {
   "cell_type": "code",
   "execution_count": null,
   "id": "354d34fe-60e6-4f64-8d4b-d863140fee0a",
   "metadata": {},
   "outputs": [],
   "source": []
  },
  {
   "cell_type": "markdown",
   "id": "da68cd93-3e2e-4467-95fe-c9696fdfbfeb",
   "metadata": {},
   "source": [
    "**Example 2**"
   ]
  },
  {
   "cell_type": "code",
   "execution_count": null,
   "id": "034aaca8-6b57-4765-a159-cadf77565a2d",
   "metadata": {},
   "outputs": [],
   "source": []
  },
  {
   "cell_type": "markdown",
   "id": "02b5c205-27cb-44ba-9ed8-b4e6ebcafb04",
   "metadata": {},
   "source": [
    "**Example 3**"
   ]
  },
  {
   "cell_type": "code",
   "execution_count": null,
   "id": "02a22959-5262-4d7f-b0b2-fe5e18144cf2",
   "metadata": {},
   "outputs": [],
   "source": []
  },
  {
   "cell_type": "markdown",
   "id": "9e474232-c607-49e7-aaf1-f73b787220f2",
   "metadata": {},
   "source": [
    "**Example 4**"
   ]
  },
  {
   "cell_type": "code",
   "execution_count": null,
   "id": "b77e1e77-d394-42d6-9f27-d6b462388464",
   "metadata": {},
   "outputs": [],
   "source": []
  },
  {
   "cell_type": "code",
   "execution_count": null,
   "id": "ffa43bb3-4568-415d-abb8-0a591566c126",
   "metadata": {},
   "outputs": [],
   "source": []
  }
 ],
 "metadata": {
  "kernelspec": {
   "display_name": "Python 3 (ipykernel)",
   "language": "python",
   "name": "python3"
  },
  "language_info": {
   "codemirror_mode": {
    "name": "ipython",
    "version": 3
   },
   "file_extension": ".py",
   "mimetype": "text/x-python",
   "name": "python",
   "nbconvert_exporter": "python",
   "pygments_lexer": "ipython3",
   "version": "3.11.5"
  },
  "toc": {
   "base_numbering": 1,
   "nav_menu": {},
   "number_sections": true,
   "sideBar": true,
   "skip_h1_title": false,
   "title_cell": "Table of Contents",
   "title_sidebar": "Contents",
   "toc_cell": false,
   "toc_position": {},
   "toc_section_display": true,
   "toc_window_display": false
  },
  "vscode": {
   "interpreter": {
    "hash": "31f2aee4e71d21fbe5cf8b01ff0e069b9275f58929596ceb00d14d90e3e16cd6"
   }
  }
 },
 "nbformat": 4,
 "nbformat_minor": 5
}
