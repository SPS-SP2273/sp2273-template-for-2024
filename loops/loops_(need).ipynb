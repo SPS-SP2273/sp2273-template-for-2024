{
 "cells": [
  {
   "attachments": {},
   "cell_type": "markdown",
   "id": "123456",
   "metadata": {},
   "source": [
    "<div style=\"text-align:left;font-size:2em\"><span style=\"font-weight:bolder;font-size:1.25em\">SP2273 | Learning Portfolio</span><br><br><span style=\"font-weight:bold;color:darkred\">Loops (Need)</span></div>"
   ]
  },
  {
   "attachments": {},
   "cell_type": "markdown",
   "id": "aa17ef85",
   "metadata": {},
   "source": [
    "# The for iterator"
   ]
  },
  {
   "cell_type": "markdown",
   "id": "960e2632-3757-43c3-8337-1b10968689cb",
   "metadata": {},
   "source": [
    "**Poor example**"
   ]
  },
  {
   "cell_type": "code",
   "execution_count": null,
   "id": "17b86eea-c034-40f7-8a8f-3a71ffbecbcf",
   "metadata": {},
   "outputs": [],
   "source": []
  },
  {
   "cell_type": "code",
   "execution_count": null,
   "id": "649e204a-7440-4e6a-88fe-6262936ce67f",
   "metadata": {},
   "outputs": [],
   "source": []
  },
  {
   "attachments": {},
   "cell_type": "markdown",
   "id": "5019355d",
   "metadata": {},
   "source": [
    "## for with a list"
   ]
  },
  {
   "cell_type": "code",
   "execution_count": null,
   "id": "ba6626c0-6b88-4d4d-9d75-43149ea60f25",
   "metadata": {},
   "outputs": [],
   "source": []
  },
  {
   "cell_type": "code",
   "execution_count": null,
   "id": "c8774d46-bf64-4f5f-bd04-c211ddeee982",
   "metadata": {},
   "outputs": [],
   "source": []
  },
  {
   "attachments": {},
   "cell_type": "markdown",
   "id": "6393ab42",
   "metadata": {},
   "source": [
    "## for with enumerate"
   ]
  },
  {
   "cell_type": "markdown",
   "id": "f81183bf-e6f5-467c-9953-fbb8d7bf9af1",
   "metadata": {},
   "source": [
    "### Basic use"
   ]
  },
  {
   "cell_type": "code",
   "execution_count": null,
   "id": "24cfca55-6650-43ab-b701-7e2acb9e33b7",
   "metadata": {},
   "outputs": [],
   "source": []
  },
  {
   "cell_type": "code",
   "execution_count": null,
   "id": "db3927b1-a7d3-4293-a3b2-d740c7ee7db5",
   "metadata": {},
   "outputs": [],
   "source": []
  },
  {
   "cell_type": "markdown",
   "id": "c812fa54-5ed0-4c9f-ad5b-68a582021184",
   "metadata": {},
   "source": [
    "### Index other lists"
   ]
  },
  {
   "cell_type": "code",
   "execution_count": null,
   "id": "b2b9c67b-bdc9-4bc4-ad18-1681bb0e6ada",
   "metadata": {},
   "outputs": [],
   "source": []
  },
  {
   "cell_type": "code",
   "execution_count": null,
   "id": "a493a750-0475-4ecb-a5c7-07895789fb92",
   "metadata": {},
   "outputs": [],
   "source": []
  },
  {
   "cell_type": "markdown",
   "id": "ac5bdd8b-4b8c-4e05-9b98-a0f4cf4a7cec",
   "metadata": {},
   "source": [
    "### Can start counting anywhere"
   ]
  },
  {
   "attachments": {},
   "cell_type": "markdown",
   "id": "cf09c3b0",
   "metadata": {},
   "source": [
    "## for with range"
   ]
  },
  {
   "cell_type": "markdown",
   "id": "1d8e4097-5443-4f17-9f5d-39b7c5b37f5f",
   "metadata": {},
   "source": [
    "**Example 1**"
   ]
  },
  {
   "cell_type": "code",
   "execution_count": null,
   "id": "aeef2a4f-9496-456a-a7ab-f7c846e644a9",
   "metadata": {},
   "outputs": [],
   "source": []
  },
  {
   "cell_type": "markdown",
   "id": "e387950b-982d-480e-bf24-871378c9e793",
   "metadata": {},
   "source": [
    "**Example 2**"
   ]
  },
  {
   "cell_type": "code",
   "execution_count": null,
   "id": "84fd21ae-9008-4816-96e9-13a0a8d4421e",
   "metadata": {},
   "outputs": [],
   "source": []
  },
  {
   "cell_type": "markdown",
   "id": "b701ca05-1226-4455-949d-cbeafd23c9e3",
   "metadata": {},
   "source": [
    "**Example 3**"
   ]
  },
  {
   "cell_type": "code",
   "execution_count": null,
   "id": "c46a1681-410a-4b73-9419-60cf8f3daf61",
   "metadata": {},
   "outputs": [],
   "source": []
  },
  {
   "cell_type": "markdown",
   "id": "bbbba317-1aef-4c07-83ef-9f1d8392a002",
   "metadata": {},
   "source": [
    "### Still trying to print superhero names!"
   ]
  },
  {
   "attachments": {},
   "cell_type": "markdown",
   "id": "6f39c6d5",
   "metadata": {},
   "source": [
    "# while"
   ]
  },
  {
   "cell_type": "code",
   "execution_count": null,
   "id": "e0c69916-6cd2-4c80-98ae-440e3d8ad46e",
   "metadata": {},
   "outputs": [],
   "source": []
  }
 ],
 "metadata": {
  "kernelspec": {
   "display_name": "Python 3 (ipykernel)",
   "language": "python",
   "name": "python3"
  },
  "language_info": {
   "codemirror_mode": {
    "name": "ipython",
    "version": 3
   },
   "file_extension": ".py",
   "mimetype": "text/x-python",
   "name": "python",
   "nbconvert_exporter": "python",
   "pygments_lexer": "ipython3",
   "version": "3.11.5"
  },
  "toc": {
   "base_numbering": 1,
   "nav_menu": {},
   "number_sections": true,
   "sideBar": true,
   "skip_h1_title": false,
   "title_cell": "Table of Contents",
   "title_sidebar": "Contents",
   "toc_cell": false,
   "toc_position": {},
   "toc_section_display": true,
   "toc_window_display": false
  },
  "vscode": {
   "interpreter": {
    "hash": "31f2aee4e71d21fbe5cf8b01ff0e069b9275f58929596ceb00d14d90e3e16cd6"
   }
  }
 },
 "nbformat": 4,
 "nbformat_minor": 5
}
