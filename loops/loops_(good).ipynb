{
 "cells": [
  {
   "attachments": {},
   "cell_type": "markdown",
   "id": "123456",
   "metadata": {},
   "source": [
    "<div style=\"text-align:left;font-size:2em\"><span style=\"font-weight:bolder;font-size:1.25em\">SP2273 | Learning Portfolio</span><br><br><span style=\"font-weight:bold;color:darkred\">Loops (Good)</span></div>"
   ]
  },
  {
   "attachments": {},
   "cell_type": "markdown",
   "id": "90ef6dc1",
   "metadata": {},
   "source": [
    "# Interrupting the flow"
   ]
  },
  {
   "cell_type": "markdown",
   "id": "613eba99-2233-4328-831c-a34337bfd7bd",
   "metadata": {},
   "source": [
    "**Example 1**"
   ]
  },
  {
   "cell_type": "code",
   "execution_count": null,
   "id": "54b1ce8c-d9db-47ef-98e8-a50094385fc3",
   "metadata": {},
   "outputs": [],
   "source": []
  },
  {
   "cell_type": "markdown",
   "id": "6fdf0f2d-f59f-4044-85cc-db05a4564327",
   "metadata": {},
   "source": [
    "**Example 2**"
   ]
  },
  {
   "cell_type": "code",
   "execution_count": null,
   "id": "c4bb88fc-4a65-4a89-a508-f4a5431eb087",
   "metadata": {},
   "outputs": [],
   "source": []
  },
  {
   "cell_type": "markdown",
   "id": "402ef4c4-029d-4d34-b7b5-9f6f438a8cda",
   "metadata": {},
   "source": [
    "**Example 3**"
   ]
  },
  {
   "cell_type": "code",
   "execution_count": null,
   "id": "379bc6d7-6f66-4b17-ab93-e7f48a7c97f4",
   "metadata": {},
   "outputs": [],
   "source": []
  },
  {
   "cell_type": "markdown",
   "id": "f2fba772-84a8-47bc-8735-0871d84ba1bf",
   "metadata": {},
   "source": [
    "**Example 4**"
   ]
  },
  {
   "cell_type": "code",
   "execution_count": null,
   "id": "2852641b-f7bb-40b7-b8cb-024fb89d637f",
   "metadata": {},
   "outputs": [],
   "source": []
  },
  {
   "attachments": {},
   "cell_type": "markdown",
   "id": "fb905672",
   "metadata": {},
   "source": [
    "# List comprehension!"
   ]
  },
  {
   "attachments": {},
   "cell_type": "markdown",
   "id": "67bdee06",
   "metadata": {},
   "source": [
    "## Basic syntax"
   ]
  },
  {
   "cell_type": "code",
   "execution_count": null,
   "id": "a1b8264d-7ec5-4b03-85ad-395b6bebf0df",
   "metadata": {},
   "outputs": [],
   "source": []
  },
  {
   "cell_type": "code",
   "execution_count": null,
   "id": "813c092c-f220-4a70-8ae4-43253e6fa017",
   "metadata": {},
   "outputs": [],
   "source": []
  },
  {
   "attachments": {},
   "cell_type": "markdown",
   "id": "d740b618",
   "metadata": {},
   "source": [
    "## List comprehension with conditions"
   ]
  },
  {
   "cell_type": "code",
   "execution_count": null,
   "id": "09a852aa-31a5-43a8-9821-da42722cd743",
   "metadata": {},
   "outputs": [],
   "source": []
  },
  {
   "cell_type": "code",
   "execution_count": null,
   "id": "37f73bec-c7d0-4b89-9aff-81aa7bb7d5c9",
   "metadata": {},
   "outputs": [],
   "source": []
  },
  {
   "attachments": {},
   "cell_type": "markdown",
   "id": "348e092e",
   "metadata": {},
   "source": [
    "# Other useful stuff"
   ]
  },
  {
   "attachments": {},
   "cell_type": "markdown",
   "id": "2ad9ad85",
   "metadata": {},
   "source": [
    "## `for` with unpacking"
   ]
  },
  {
   "cell_type": "markdown",
   "id": "e9f269aa-6803-41b2-a3d1-4a4577056992",
   "metadata": {},
   "source": [
    "### Unpacking?"
   ]
  },
  {
   "cell_type": "code",
   "execution_count": null,
   "id": "01fd7c91-8fd3-4970-be25-d47a695ad9e9",
   "metadata": {},
   "outputs": [],
   "source": []
  },
  {
   "cell_type": "markdown",
   "id": "18a92e55-ebf3-4b00-bfd0-47ee5c28a9d3",
   "metadata": {},
   "source": [
    "### Unpacking with `for`"
   ]
  },
  {
   "cell_type": "code",
   "execution_count": null,
   "id": "b858164f-1c52-4a1a-9118-33050191d2b3",
   "metadata": {},
   "outputs": [],
   "source": []
  },
  {
   "cell_type": "code",
   "execution_count": null,
   "id": "ce8ccaca-4ecd-47c3-93a4-4b431693a9d2",
   "metadata": {},
   "outputs": [],
   "source": []
  },
  {
   "attachments": {},
   "cell_type": "markdown",
   "id": "902fa5bf",
   "metadata": {},
   "source": [
    "## `for` with zip()"
   ]
  },
  {
   "cell_type": "markdown",
   "id": "999580e2-43af-402f-8553-4a99902991f1",
   "metadata": {},
   "source": [
    "### `keys()` and `values()`"
   ]
  },
  {
   "cell_type": "code",
   "execution_count": null,
   "id": "5e14de65-947e-4573-813f-accec7e437d4",
   "metadata": {},
   "outputs": [],
   "source": []
  },
  {
   "cell_type": "code",
   "execution_count": null,
   "id": "daa0ef9a-ba82-44d2-80f5-04a3a5967cc5",
   "metadata": {},
   "outputs": [],
   "source": []
  },
  {
   "cell_type": "markdown",
   "id": "362e699c-61ff-4511-9560-b005a6223357",
   "metadata": {},
   "source": [
    "### `items()`"
   ]
  },
  {
   "cell_type": "code",
   "execution_count": null,
   "id": "44ed86e3-40d6-447a-8307-ebed3ce49165",
   "metadata": {},
   "outputs": [],
   "source": []
  },
  {
   "cell_type": "markdown",
   "id": "2f4526a4-b8ce-4a54-a433-d60a8ee6588e",
   "metadata": {},
   "source": [
    "### Directly access using key"
   ]
  },
  {
   "cell_type": "code",
   "execution_count": null,
   "id": "3879e76d-ff73-4d36-9a8b-3bced25b0ee1",
   "metadata": {},
   "outputs": [],
   "source": []
  },
  {
   "attachments": {},
   "cell_type": "markdown",
   "id": "c627dd5e",
   "metadata": {},
   "source": [
    "## `for` with dictionaries"
   ]
  }
 ],
 "metadata": {
  "kernelspec": {
   "display_name": "Python 3 (ipykernel)",
   "language": "python",
   "name": "python3"
  },
  "language_info": {
   "codemirror_mode": {
    "name": "ipython",
    "version": 3
   },
   "file_extension": ".py",
   "mimetype": "text/x-python",
   "name": "python",
   "nbconvert_exporter": "python",
   "pygments_lexer": "ipython3",
   "version": "3.11.5"
  },
  "toc": {
   "base_numbering": 1,
   "nav_menu": {},
   "number_sections": true,
   "sideBar": true,
   "skip_h1_title": false,
   "title_cell": "Table of Contents",
   "title_sidebar": "Contents",
   "toc_cell": false,
   "toc_position": {},
   "toc_section_display": true,
   "toc_window_display": false
  },
  "vscode": {
   "interpreter": {
    "hash": "31f2aee4e71d21fbe5cf8b01ff0e069b9275f58929596ceb00d14d90e3e16cd6"
   }
  }
 },
 "nbformat": 4,
 "nbformat_minor": 5
}
